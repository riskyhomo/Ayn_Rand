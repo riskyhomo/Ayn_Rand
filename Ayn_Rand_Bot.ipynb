{
  "metadata": {
    "kernelspec": {
      "language": "python",
      "display_name": "Python 3",
      "name": "python3"
    },
    "language_info": {
      "name": "python",
      "version": "3.10.13",
      "mimetype": "text/x-python",
      "codemirror_mode": {
        "name": "ipython",
        "version": 3
      },
      "pygments_lexer": "ipython3",
      "nbconvert_exporter": "python",
      "file_extension": ".py"
    },
    "kaggle": {
      "accelerator": "none",
      "dataSources": [],
      "dockerImageVersionId": 30732,
      "isInternetEnabled": true,
      "language": "python",
      "sourceType": "notebook",
      "isGpuEnabled": false
    },
    "colab": {
      "name": "Ayn Rand Bot",
      "provenance": []
    }
  },
  "nbformat_minor": 0,
  "nbformat": 4,
  "cells": [
    {
      "cell_type": "code",
      "source": [
        "# This Python 3 environment comes with many helpful analytics libraries installed\n",
        "# It is defined by the kaggle/python Docker image: https://github.com/kaggle/docker-python\n",
        "# For example, here's several helpful packages to load\n",
        "\n",
        "import numpy as np # linear algebra\n",
        "import pandas as pd # data processing, CSV file I/O (e.g. pd.read_csv)\n",
        "\n",
        "# Input data files are available in the read-only \"../input/\" directory\n",
        "# For example, running this (by clicking run or pressing Shift+Enter) will list all files under the input directory\n",
        "\n",
        "import os\n",
        "for dirname, _, filenames in os.walk('/kaggle/input'):\n",
        "    for filename in filenames:\n",
        "        print(os.path.join(dirname, filename))\n",
        "\n",
        "# You can write up to 20GB to the current directory (/kaggle/working/) that gets preserved as output when you create a version using \"Save & Run All\"\n",
        "# You can also write temporary files to /kaggle/temp/, but they won't be saved outside of the current session"
      ],
      "metadata": {
        "_uuid": "8f2839f25d086af736a60e9eeb907d3b93b6e0e5",
        "_cell_guid": "b1076dfc-b9ad-4769-8c92-a6c4dae69d19",
        "trusted": true,
        "id": "bKoSHoV2Vd6j"
      },
      "execution_count": null,
      "outputs": []
    },
    {
      "cell_type": "code",
      "source": [
        "!pip install -q -U bitsandbytes\n",
        "!pip install -q -U git+https://github.com/huggingface/transformers.git\n",
        "!pip install -q -U git+https://github.com/huggingface/peft.git\n",
        "!pip install -q -U git+https://github.com/huggingface/accelerate.git\n",
        "!pip install -q trl xformers wandb datasets einops gradio sentencepiece"
      ],
      "metadata": {
        "execution": {
          "iopub.status.busy": "2024-06-15T23:45:56.651681Z",
          "iopub.execute_input": "2024-06-15T23:45:56.652176Z",
          "iopub.status.idle": "2024-06-15T23:51:42.711004Z",
          "shell.execute_reply.started": "2024-06-15T23:45:56.652132Z",
          "shell.execute_reply": "2024-06-15T23:51:42.708745Z"
        },
        "trusted": true,
        "id": "qvMGka6yVd6n"
      },
      "execution_count": null,
      "outputs": []
    },
    {
      "cell_type": "code",
      "source": [
        "from transformers import AutoModelForCausalLM, AutoTokenizer, BitsAndBytesConfig,HfArgumentParser,TrainingArguments,pipeline, logging, TextStreamer\n",
        "from peft import LoraConfig, PeftModel, prepare_model_for_kbit_training, get_peft_model\n",
        "import os, torch, wandb, platform, warnings\n",
        "from datasets import load_dataset\n",
        "from trl import SFTTrainer\n",
        "from huggingface_hub import notebook_login\n",
        "base_model = \"mistralai/Mistral-7B-v0.1\" #bn22/Mistral-7B-Instruct-v0.1-sharded\n",
        "dataset_name= \"riskyhomo/ayn_rand\"\n",
        "new_model=\"riskyhomo/Ayn_Rand_BB\""
      ],
      "metadata": {
        "execution": {
          "iopub.status.busy": "2024-06-16T00:06:22.978537Z",
          "iopub.execute_input": "2024-06-16T00:06:22.97985Z",
          "iopub.status.idle": "2024-06-16T00:06:22.990366Z",
          "shell.execute_reply.started": "2024-06-16T00:06:22.9798Z",
          "shell.execute_reply": "2024-06-16T00:06:22.988469Z"
        },
        "trusted": true,
        "id": "zzfutCstVd6o"
      },
      "execution_count": null,
      "outputs": []
    },
    {
      "cell_type": "code",
      "source": [
        "from huggingface_hub import notebook_login\n",
        "notebook_login()"
      ],
      "metadata": {
        "execution": {
          "iopub.status.busy": "2024-06-16T00:06:24.794797Z",
          "iopub.execute_input": "2024-06-16T00:06:24.795291Z",
          "iopub.status.idle": "2024-06-16T00:06:24.830747Z",
          "shell.execute_reply.started": "2024-06-16T00:06:24.795256Z",
          "shell.execute_reply": "2024-06-16T00:06:24.828863Z"
        },
        "trusted": true,
        "id": "T5v_BCcMVd6o"
      },
      "execution_count": null,
      "outputs": []
    },
    {
      "cell_type": "code",
      "source": [
        "dataset= load_dataset(dataset_name, split=\"train\")\n",
        "dataset[\"text\"][0]"
      ],
      "metadata": {
        "execution": {
          "iopub.status.busy": "2024-06-15T23:54:45.282334Z",
          "iopub.execute_input": "2024-06-15T23:54:45.283582Z",
          "iopub.status.idle": "2024-06-15T23:54:46.689067Z",
          "shell.execute_reply.started": "2024-06-15T23:54:45.283507Z",
          "shell.execute_reply": "2024-06-15T23:54:46.687781Z"
        },
        "trusted": true,
        "id": "OKa0DC7mVd6p"
      },
      "execution_count": null,
      "outputs": []
    },
    {
      "cell_type": "code",
      "source": [
        "model = AutoModelForCausalLM.from_pretrained(base_model)\n"
      ],
      "metadata": {
        "execution": {
          "iopub.status.busy": "2024-06-15T23:54:47.873343Z",
          "iopub.execute_input": "2024-06-15T23:54:47.874349Z",
          "iopub.status.idle": "2024-06-15T23:57:06.736025Z",
          "shell.execute_reply.started": "2024-06-15T23:54:47.874296Z",
          "shell.execute_reply": "2024-06-15T23:57:06.733674Z"
        },
        "trusted": true,
        "id": "_vEBeIr0Vd6p"
      },
      "execution_count": null,
      "outputs": []
    },
    {
      "cell_type": "code",
      "source": [
        "tokenizer= AutoTokenizer.from_pretrained(base_model, trust_remote_code=True)\n",
        "tokenizer.padding_size=\"right\"\n",
        "tokenizer.add_oes_token =True\n",
        "\n",
        "tokenizer.add_bos_token , tokenizer.add_oes_token"
      ],
      "metadata": {
        "execution": {
          "iopub.status.busy": "2024-06-15T23:57:10.608715Z",
          "iopub.execute_input": "2024-06-15T23:57:10.609748Z",
          "iopub.status.idle": "2024-06-15T23:57:11.815903Z",
          "shell.execute_reply.started": "2024-06-15T23:57:10.609696Z",
          "shell.execute_reply": "2024-06-15T23:57:11.8146Z"
        },
        "trusted": true,
        "id": "hWcXQvgGVd6p"
      },
      "execution_count": null,
      "outputs": []
    },
    {
      "cell_type": "code",
      "source": [
        "model = prepare_model_for_kbit_training(model)\n",
        "peft_config = LoraConfig(lora_alpha=16,\n",
        "                        lora_dropout=0.1,\n",
        "                        r=64,\n",
        "                        bias=\"none\",\n",
        "                        task_type=\"CASUAL_LM\",\n",
        "                        target_modules=[\"q_proj\", \"v_proj\"])\n",
        "model = get_peft_model(model, peft_config)"
      ],
      "metadata": {
        "execution": {
          "iopub.status.busy": "2024-06-15T23:57:13.584472Z",
          "iopub.execute_input": "2024-06-15T23:57:13.585015Z",
          "iopub.status.idle": "2024-06-15T23:57:15.118861Z",
          "shell.execute_reply.started": "2024-06-15T23:57:13.584976Z",
          "shell.execute_reply": "2024-06-15T23:57:15.11767Z"
        },
        "trusted": true,
        "id": "9mHqy8eMVd6q"
      },
      "execution_count": null,
      "outputs": []
    },
    {
      "cell_type": "code",
      "source": [
        "training_arguments = TrainingArguments(\n",
        "    output_dir=\"./results\",\n",
        "    num_train_epochs=1,\n",
        "    per_device_train_batch_size=4,\n",
        "    gradient_accumulation_steps=1,\n",
        "    optim=\"paged_adamw_32bit\",\n",
        "    save_steps=25,\n",
        "    logging_steps=25,\n",
        "    learning_rate=2e-4,\n",
        "    weight_decay=0.001,\n",
        "    fp16=False,\n",
        "    bf16=False,\n",
        "    max_grad_norm=0.3,\n",
        "    max_steps=-1,\n",
        "    warmup_ratio=0.03,\n",
        "    group_by_length=True,\n",
        "    lr_scheduler_type=\"constant\",\n",
        "    report_to=\"wandb\"\n",
        ")"
      ],
      "metadata": {
        "execution": {
          "iopub.status.busy": "2024-06-15T23:57:16.215609Z",
          "iopub.execute_input": "2024-06-15T23:57:16.216012Z",
          "iopub.status.idle": "2024-06-15T23:57:16.254795Z",
          "shell.execute_reply.started": "2024-06-15T23:57:16.215981Z",
          "shell.execute_reply": "2024-06-15T23:57:16.253627Z"
        },
        "trusted": true,
        "id": "U_PUFZZmVd6q"
      },
      "execution_count": null,
      "outputs": []
    },
    {
      "cell_type": "code",
      "source": [
        "trainer = SFTTrainer(\n",
        "    model=model,\n",
        "    train_dataset=dataset,\n",
        "    peft_config=peft_config,\n",
        "    max_seq_length= None,\n",
        "    dataset_text_field=\"text\",\n",
        "    tokenizer=tokenizer,\n",
        "    args=training_arguments,\n",
        "    packing= False,\n",
        ")\n",
        "\n",
        "trainer.train()"
      ],
      "metadata": {
        "execution": {
          "iopub.status.busy": "2024-06-15T23:59:50.419166Z",
          "iopub.execute_input": "2024-06-15T23:59:50.419725Z",
          "iopub.status.idle": "2024-06-16T00:02:29.275188Z",
          "shell.execute_reply.started": "2024-06-15T23:59:50.419681Z",
          "shell.execute_reply": "2024-06-16T00:02:29.272565Z"
        },
        "trusted": true,
        "id": "gckwjs-xVd6r"
      },
      "execution_count": null,
      "outputs": []
    },
    {
      "cell_type": "code",
      "source": [
        "trainer.model.save_pretrained(new_model)\n",
        "model.config.use_cache=True"
      ],
      "metadata": {
        "execution": {
          "iopub.status.busy": "2024-06-15T23:59:22.345585Z",
          "iopub.execute_input": "2024-06-15T23:59:22.34607Z",
          "iopub.status.idle": "2024-06-15T23:59:22.897976Z",
          "shell.execute_reply.started": "2024-06-15T23:59:22.346036Z",
          "shell.execute_reply": "2024-06-15T23:59:22.895914Z"
        },
        "trusted": true,
        "id": "qvmN3-BOVd6r"
      },
      "execution_count": null,
      "outputs": []
    },
    {
      "cell_type": "code",
      "source": [
        "trainer.model.push_to_hub(new_model, use_temp_dir=True)"
      ],
      "metadata": {
        "execution": {
          "iopub.status.busy": "2024-06-16T00:06:42.401994Z",
          "iopub.execute_input": "2024-06-16T00:06:42.403286Z",
          "iopub.status.idle": "2024-06-16T00:06:48.882587Z",
          "shell.execute_reply.started": "2024-06-16T00:06:42.403218Z",
          "shell.execute_reply": "2024-06-16T00:06:48.880882Z"
        },
        "trusted": true,
        "id": "m6HuHKxDVd6r"
      },
      "execution_count": null,
      "outputs": []
    },
    {
      "cell_type": "code",
      "source": [
        "logging.set_verbosity(logging.CRITICAL)\n",
        "\n",
        "prompt=\"What is love?\"\n",
        "pipe = pipeline(task=\"text-generation\", model=model, tokenizer=tokenizer, max_length=500)\n",
        "result=pipe(f\"{prompt}\")\n",
        "print(result[0][\"generated_text\"])"
      ],
      "metadata": {
        "execution": {
          "iopub.status.busy": "2024-06-16T00:06:58.139919Z",
          "iopub.execute_input": "2024-06-16T00:06:58.140368Z",
          "iopub.status.idle": "2024-06-16T00:19:35.960817Z",
          "shell.execute_reply.started": "2024-06-16T00:06:58.140337Z",
          "shell.execute_reply": "2024-06-16T00:19:35.959413Z"
        },
        "trusted": true,
        "id": "hZcNxGc0Vd6r"
      },
      "execution_count": null,
      "outputs": []
    }
  ]
}